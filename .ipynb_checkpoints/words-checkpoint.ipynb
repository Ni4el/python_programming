{
 "cells": [
  {
   "cell_type": "code",
   "execution_count": null,
   "metadata": {
    "collapsed": true
   },
   "outputs": [],
   "source": [
    "from urllib.request import urlopen\n",
    "\n",
    "def fetch_word():\n",
    "    with urlopen('http://sixty-north.com/c/t.txt') as story:\n",
    "        story_words = []\n",
    "        for line in story:\n",
    "            line_words = line.decode('utf-8').split()\n",
    "            for word in line_words:\n",
    "                story_words.append(word)\n",
    "\n",
    "    for word in story_words:\n",
    "        print(word)\n",
    "        \n",
    "if __name__ == __main__\n",
    "    fetch_word()"
   ]
  }
 ],
 "metadata": {
  "kernelspec": {
   "display_name": "Python 3",
   "language": "python",
   "name": "python3"
  },
  "language_info": {
   "codemirror_mode": {
    "name": "ipython",
    "version": 3
   },
   "file_extension": ".py",
   "mimetype": "text/x-python",
   "name": "python",
   "nbconvert_exporter": "python",
   "pygments_lexer": "ipython3",
   "version": "3.5.1"
  }
 },
 "nbformat": 4,
 "nbformat_minor": 0
}
