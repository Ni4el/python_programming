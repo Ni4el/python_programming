{
 "cells": [
  {
   "cell_type": "code",
   "execution_count": 10,
   "metadata": {
    "collapsed": false
   },
   "outputs": [],
   "source": [
    "try:\n",
    "    import msvcrt\n",
    "    \n",
    "    def getkey():\n",
    "        \"\"\"Wait for a keypress and return a single character string.\"\"\"\n",
    "        return mscvrt.getch()\n",
    "\n",
    "except ImportError:\n",
    "    \n",
    "    import sys\n",
    "    import tty\n",
    "    import termios\n",
    "    \n",
    "    def getkey():\n",
    "        \"\"\"Wait for a keypress and return a single character string.\"\"\"\n",
    "        fd = sys.stdin.fileno()\n",
    "        orginal_attributes = termios.tcgetattr(fd)\n",
    "        try:\n",
    "            tty.setraw(sys.stdin.fileno())\n",
    "            ch = sys.stdin.read(1)\n",
    "        finally:\n",
    "            termios.tcsetattr(fd, termios.TCSADRAIN, original_attributes)\n",
    "        return ch"
   ]
  },
  {
   "cell_type": "code",
   "execution_count": null,
   "metadata": {
    "collapsed": true
   },
   "outputs": [],
   "source": []
  }
 ],
 "metadata": {
  "kernelspec": {
   "display_name": "Python 3",
   "language": "python",
   "name": "python3"
  },
  "language_info": {
   "codemirror_mode": {
    "name": "ipython",
    "version": 3
   },
   "file_extension": ".py",
   "mimetype": "text/x-python",
   "name": "python",
   "nbconvert_exporter": "python",
   "pygments_lexer": "ipython3",
   "version": "3.5.1"
  }
 },
 "nbformat": 4,
 "nbformat_minor": 0
}
