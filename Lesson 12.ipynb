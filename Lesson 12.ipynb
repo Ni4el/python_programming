{
 "cells": [
  {
   "cell_type": "markdown",
   "metadata": {},
   "source": [
    "List comprehension"
   ]
  },
  {
   "cell_type": "code",
   "execution_count": 5,
   "metadata": {
    "collapsed": false
   },
   "outputs": [],
   "source": [
    "from math import factorial\n",
    "f = [len(str(factorial(x))) for x in range(20)]"
   ]
  },
  {
   "cell_type": "code",
   "execution_count": 6,
   "metadata": {
    "collapsed": false
   },
   "outputs": [
    {
     "data": {
      "text/plain": [
       "[1, 1, 1, 1, 2, 3, 3, 4, 5, 6, 7, 8, 9, 10, 11, 13, 14, 15, 16, 18]"
      ]
     },
     "execution_count": 6,
     "metadata": {},
     "output_type": "execute_result"
    }
   ],
   "source": [
    "f"
   ]
  },
  {
   "cell_type": "markdown",
   "metadata": {},
   "source": [
    "Set comprehension"
   ]
  },
  {
   "cell_type": "code",
   "execution_count": 7,
   "metadata": {
    "collapsed": true
   },
   "outputs": [],
   "source": [
    "from math import factorial\n",
    "f = {len(str(factorial(x))) for x in range(20)}"
   ]
  },
  {
   "cell_type": "code",
   "execution_count": 8,
   "metadata": {
    "collapsed": false
   },
   "outputs": [
    {
     "data": {
      "text/plain": [
       "{1, 2, 3, 4, 5, 6, 7, 8, 9, 10, 11, 13, 14, 15, 16, 18}"
      ]
     },
     "execution_count": 8,
     "metadata": {},
     "output_type": "execute_result"
    }
   ],
   "source": [
    "f"
   ]
  },
  {
   "cell_type": "code",
   "execution_count": 3,
   "metadata": {
    "collapsed": false
   },
   "outputs": [],
   "source": [
    "from pprint import pprint as pp\n",
    "\n",
    "country_to_capital = {'United Kingdom':'London', 'Brazil':'Brazilia', 'Morocco':'Rabat', 'Poland':'Warsow'}"
   ]
  },
  {
   "cell_type": "code",
   "execution_count": 5,
   "metadata": {
    "collapsed": false
   },
   "outputs": [
    {
     "name": "stdout",
     "output_type": "stream",
     "text": [
      "{'Brazilia': 'Brazil',\n",
      " 'London': 'United Kingdom',\n",
      " 'Rabat': 'Morocco',\n",
      " 'Warsow': 'Poland'}\n"
     ]
    }
   ],
   "source": [
    "capital_to_country = {capital: country for country, capital in country_to_capital.items()}\n",
    "pp(capital_to_country)"
   ]
  },
  {
   "cell_type": "code",
   "execution_count": 9,
   "metadata": {
    "collapsed": false
   },
   "outputs": [],
   "source": [
    "import os\n",
    "import glob\n",
    "\n",
    "file_size = {os.path.realpath(p): os.stat(p).st_size\n",
    "            for p in glob.glob('*.ipynb')}"
   ]
  },
  {
   "cell_type": "code",
   "execution_count": 10,
   "metadata": {
    "collapsed": false
   },
   "outputs": [
    {
     "name": "stdout",
     "output_type": "stream",
     "text": [
      "{'/Users/krzysztof/Documents/Projects/Python Fundamentals/Introduction.ipynb': 30112,\n",
      " '/Users/krzysztof/Documents/Projects/Python Fundamentals/Lesson 1.ipynb': 2541,\n",
      " '/Users/krzysztof/Documents/Projects/Python Fundamentals/Lesson 10 EAFP.ipynb': 1507,\n",
      " '/Users/krzysztof/Documents/Projects/Python Fundamentals/Lesson 11.ipynb': 1541,\n",
      " '/Users/krzysztof/Documents/Projects/Python Fundamentals/Lesson 12.ipynb': 4255,\n",
      " '/Users/krzysztof/Documents/Projects/Python Fundamentals/Lesson 2.ipynb': 3844,\n",
      " '/Users/krzysztof/Documents/Projects/Python Fundamentals/Lesson 3.ipynb': 6606,\n",
      " '/Users/krzysztof/Documents/Projects/Python Fundamentals/Lesson 4 - tuple.ipynb': 8458,\n",
      " '/Users/krzysztof/Documents/Projects/Python Fundamentals/Lesson 5.ipynb': 7431,\n",
      " '/Users/krzysztof/Documents/Projects/Python Fundamentals/Lesson 6  - str & list.ipynb': 6033,\n",
      " '/Users/krzysztof/Documents/Projects/Python Fundamentals/Lesson 7 dict.ipynb': 3904,\n",
      " '/Users/krzysztof/Documents/Projects/Python Fundamentals/Lesson 8 set.ipynb': 3870,\n",
      " '/Users/krzysztof/Documents/Projects/Python Fundamentals/Lesson 9.ipynb': 2030,\n",
      " '/Users/krzysztof/Documents/Projects/Python Fundamentals/words.ipynb': 2570}\n"
     ]
    }
   ],
   "source": [
    "pp(file_size)"
   ]
  },
  {
   "cell_type": "code",
   "execution_count": 17,
   "metadata": {
    "collapsed": false
   },
   "outputs": [
    {
     "data": {
      "text/plain": [
       "[6, 7, 8, 9]"
      ]
     },
     "execution_count": 17,
     "metadata": {},
     "output_type": "execute_result"
    }
   ],
   "source": [
    "[y for y in range(10) if y>5]"
   ]
  },
  {
   "cell_type": "code",
   "execution_count": null,
   "metadata": {
    "collapsed": true
   },
   "outputs": [],
   "source": []
  }
 ],
 "metadata": {
  "kernelspec": {
   "display_name": "Python 3",
   "language": "python",
   "name": "python3"
  },
  "language_info": {
   "codemirror_mode": {
    "name": "ipython",
    "version": 3
   },
   "file_extension": ".py",
   "mimetype": "text/x-python",
   "name": "python",
   "nbconvert_exporter": "python",
   "pygments_lexer": "ipython3",
   "version": "3.5.1"
  }
 },
 "nbformat": 4,
 "nbformat_minor": 0
}
